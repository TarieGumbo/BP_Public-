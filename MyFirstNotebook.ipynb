{
  "nbformat": 4,
  "nbformat_minor": 0,
  "metadata": {
    "colab": {
      "provenance": [],
      "toc_visible": true,
      "authorship_tag": "ABX9TyMweIgxpDnI3NzXBUODmv1z",
      "include_colab_link": true
    },
    "kernelspec": {
      "name": "python3",
      "display_name": "Python 3"
    },
    "language_info": {
      "name": "python"
    }
  },
  "cells": [
    {
      "cell_type": "markdown",
      "metadata": {
        "id": "view-in-github",
        "colab_type": "text"
      },
      "source": [
        "<a href=\"https://colab.research.google.com/github/TarieGumbo/BP_Public-/blob/main/MyFirstNotebook.ipynb\" target=\"_parent\"><img src=\"https://colab.research.google.com/assets/colab-badge.svg\" alt=\"Open In Colab\"/></a>"
      ]
    },
    {
      "cell_type": "code",
      "execution_count": null,
      "metadata": {
        "id": "U_bwEa2fGanx"
      },
      "outputs": [],
      "source": []
    },
    {
      "cell_type": "markdown",
      "source": [
        "# Activity 1 - Sharpen your pencil \n",
        "\n"
      ],
      "metadata": {
        "id": "YGmhHqrxG166"
      }
    },
    {
      "cell_type": "code",
      "source": [
        "import random \n",
        "\n",
        "customers=['Jimmy', 'Kim', 'John', 'Stacie']\n",
        "winner = random.choice(customers)\n",
        "flavor = ' vanilla '\n",
        "print(' Congradulations ' + winner + ' you have won an ice cream sundae!')\n",
        "prompt=' Would you like a cherry on top? '\n",
        "\n",
        "wants_cherry= input(prompt)\n",
        "\n",
        "order = flavor + ' sundae '\n",
        "\n",
        "if (wants_cherry == 'yes'): \n",
        "    order = order +' with a cherry on top'\n",
        "\n",
        "print(' One ' + order + ' for ' + winner + ' coming right up...')"
      ],
      "metadata": {
        "colab": {
          "base_uri": "https://localhost:8080/"
        },
        "id": "jZNaywjzHioU",
        "outputId": "2a762f5a-1ece-4ccc-857b-8bf77157093c"
      },
      "execution_count": null,
      "outputs": [
        {
          "output_type": "stream",
          "name": "stdout",
          "text": [
            " Congradulations Jimmy you have won an ice cream sundae!\n",
            " Would you like a cherry on top? yes\n",
            " One  vanilla  sundae  with a cherry on top for Jimmy coming right up...\n"
          ]
        }
      ]
    }
  ]
}