{
  "nbformat": 4,
  "nbformat_minor": 0,
  "metadata": {
    "colab": {
      "name": "COCI16C1P1.ipynb",
      "provenance": [],
      "authorship_tag": "ABX9TyPM9rRRREos5OgwMV9/q/rq",
      "include_colab_link": true
    },
    "kernelspec": {
      "name": "python3",
      "display_name": "Python 3"
    },
    "language_info": {
      "name": "python"
    }
  },
  "cells": [
    {
      "cell_type": "markdown",
      "metadata": {
        "id": "view-in-github",
        "colab_type": "text"
      },
      "source": [
        "<a href=\"https://colab.research.google.com/github/TarieGumbo/BP_Public-/blob/main/COCI16C1P1.ipynb\" target=\"_parent\"><img src=\"https://colab.research.google.com/assets/colab-badge.svg\" alt=\"Open In Colab\"/></a>"
      ]
    },
    {
      "cell_type": "code",
      "execution_count": null,
      "metadata": {
        "id": "jQqzGEWZUJjx"
      },
      "outputs": [],
      "source": [
        ""
      ]
    },
    {
      "cell_type": "code",
      "source": [
        "\n",
        "#Prompt the user for the monthly MB \n",
        "x = int(input(\"Input monthly megabyte \"))\n",
        "\n",
        "#Prompt the user for the number of months\n",
        "n = int(input(\"Input number of month \"))\n",
        "\n",
        "#Calculate the total \n",
        "total =  x * (n + 1 )\n",
        "\n",
        "for i in range (n): \n",
        "\n",
        "  used = int(input(\" Please enter how much MB was used : \"))\n",
        "   \n",
        "  total = total - used \n",
        "\n",
        "print (total)   "
      ],
      "metadata": {
        "colab": {
          "base_uri": "https://localhost:8080/"
        },
        "id": "7hfDGBhOUTz7",
        "outputId": "16a2571b-c877-4956-ac4d-f5cd1b761a96"
      },
      "execution_count": 10,
      "outputs": [
        {
          "output_type": "stream",
          "name": "stdout",
          "text": [
            "Input monthly megabyte10\n",
            "Input number of month4\n",
            "Please enter how much MB was used12\n",
            "Please enter how much MB was used2\n",
            "Please enter how much MB was used3\n",
            "Please enter how much MB was used4\n",
            "29\n"
          ]
        }
      ]
    },
    {
      "cell_type": "code",
      "source": [
        ""
      ],
      "metadata": {
        "id": "nPitWpN9as61"
      },
      "execution_count": null,
      "outputs": []
    },
    {
      "cell_type": "code",
      "source": [
        "\n",
        "#Prompt the user for the monthly MB \n",
        "x = int(input(\"Input monthly megabyte \"))\n",
        "\n",
        "#Prompt the user for the number of months\n",
        "n = int(input(\"Input number of month \"))\n",
        "\n",
        "#Calculate the total \n",
        "total =  x * (n + 1 )\n",
        "count = 0\n",
        "\n",
        "while (count < n ): \n",
        "\n",
        "  used = int(input(\" Please enter how much MB was used : \"))\n",
        "   \n",
        "  total = total - used \n",
        "  count= count + 1 \n",
        "\n",
        "print (total)   "
      ],
      "metadata": {
        "colab": {
          "base_uri": "https://localhost:8080/"
        },
        "outputId": "f665edd8-c7d6-441a-b9f4-90bffb16117f",
        "id": "pGH9PApca7oL"
      },
      "execution_count": 12,
      "outputs": [
        {
          "output_type": "stream",
          "name": "stdout",
          "text": [
            "Input monthly megabyte 30\n",
            "Input number of month 2\n",
            "90\n"
          ]
        }
      ]
    },
    {
      "cell_type": "code",
      "source": [
        ""
      ],
      "metadata": {
        "id": "I4JZa5tpa6Z3"
      },
      "execution_count": null,
      "outputs": []
    }
  ]
}