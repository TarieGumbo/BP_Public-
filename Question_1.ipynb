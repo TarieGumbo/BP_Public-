{
  "nbformat": 4,
  "nbformat_minor": 0,
  "metadata": {
    "colab": {
      "name": "Question_1.ipynb",
      "provenance": [],
      "authorship_tag": "ABX9TyMUlpNA0a9AjVKy1IBFhJJU",
      "include_colab_link": true
    },
    "kernelspec": {
      "name": "python3",
      "display_name": "Python 3"
    },
    "language_info": {
      "name": "python"
    }
  },
  "cells": [
    {
      "cell_type": "markdown",
      "metadata": {
        "id": "view-in-github",
        "colab_type": "text"
      },
      "source": [
        "<a href=\"https://colab.research.google.com/github/TarieGumbo/BP_Public-/blob/main/Question_1.ipynb\" target=\"_parent\"><img src=\"https://colab.research.google.com/assets/colab-badge.svg\" alt=\"Open In Colab\"/></a>"
      ]
    },
    {
      "cell_type": "markdown",
      "source": [
        "##Question 1 \n",
        "Design and implement a currency calculator tha assists tourists in Australia to convert their Japanese Yen or United States Dollar into Australian Dollars. \n",
        "\n",
        "This program will allow a user to enter a currency and its value and allow the tourist to see the value in Australian Dollars \n",
        "\n",
        "- The rate of USD to AUD is 1 USD = 1.38 AUD \n",
        "- The rate of Yen to AU is 1 Yen =0.010 AUD \n",
        "\n",
        "\n",
        "The Input would be asking the tourist which currency he wants to convert, and the amount he wishes to convert. \n",
        "Whhile the output would be the amount that has been converted by the currency calculator. \n",
        "\n",
        "\n",
        "##The Algorithm \n",
        "\n",
        "Ask the tourist which currency they wish to convert\n",
        "\n",
        "Create a condition that Asks for the amount \n",
        "\n",
        "Make the calculation \n",
        "\n",
        "Present the user with an output. \n",
        "\n",
        "\n"
      ],
      "metadata": {
        "id": "tf63ten950q9"
      }
    },
    {
      "cell_type": "code",
      "source": [
        "#ask the tourist whta currency they want to convert\n",
        "exchange= input(\"If you wish to convert USD: Enter USD. If you wish to convert Yen : enter Yen \")\n",
        "\n",
        "# Create a loop\n",
        "if exchange == 'USD':\n",
        "     usd_aud = float(input(\"Please enter the amount you want to convert : \"))\n",
        "     usd_rate = round(((usd_aud* 1.38)/ 1), 2)\n",
        "     #create the output \n",
        "     print( \"The convertion of your USD to AUD is :\" , usd_rate , \" AUD \")\n",
        "else:\n",
        "     yen_aud = float(input(\"Please enter the amount you want to convert: \"))\n",
        "     yen_rate = round(((yen_aud * 0.010)/1),2)\n",
        "     # create the output\n",
        "     print( \"The convertion of your Yen to AUD is : \", yen_rate, \" AUD \" )\n"
      ],
      "metadata": {
        "colab": {
          "base_uri": "https://localhost:8080/"
        },
        "id": "WhycD4RVWpwD",
        "outputId": "de161d17-4b68-4931-ea17-5d2b3b4b2bb3"
      },
      "execution_count": 25,
      "outputs": [
        {
          "output_type": "stream",
          "name": "stdout",
          "text": [
            "If you wish to convert USD: Enter USD. If you wish to convert Yen : enter Yen USD\n",
            "Please enter the amount you want to convert : 67\n",
            "The convertion of your USD to AUD is : 92.46  AUD \n"
          ]
        }
      ]
    }
  ]
}