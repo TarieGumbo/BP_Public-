{
  "nbformat": 4,
  "nbformat_minor": 0,
  "metadata": {
    "colab": {
      "name": "CCC18S1.ipynb",
      "provenance": [],
      "authorship_tag": "ABX9TyNlctXxyA0EgQEwfVKjzBmf",
      "include_colab_link": true
    },
    "kernelspec": {
      "name": "python3",
      "display_name": "Python 3"
    },
    "language_info": {
      "name": "python"
    }
  },
  "cells": [
    {
      "cell_type": "markdown",
      "metadata": {
        "id": "view-in-github",
        "colab_type": "text"
      },
      "source": [
        "<a href=\"https://colab.research.google.com/github/TarieGumbo/BP_Public-/blob/main/CCC18S1.ipynb\" target=\"_parent\"><img src=\"https://colab.research.google.com/assets/colab-badge.svg\" alt=\"Open In Colab\"/></a>"
      ]
    },
    {
      "cell_type": "markdown",
      "source": [
        "# **Algorithm for the DMOJ Problem** \n",
        "Prompt for the number of villages and validate that \n",
        "\n",
        "Input for positions for the villages and append it to List of positions \n",
        "\n",
        "Sort the list \n",
        "\n",
        "Create a for loop \n",
        "\n",
        "Modify the range function \n",
        "for i in range (1, n-1) \n",
        "inclusive of left, right, size and append to list of sizes \n",
        "\n",
        "Print min using the function min for the list of sizes \n"
      ],
      "metadata": {
        "id": "N7K3P4jLrD9I"
      }
    },
    {
      "cell_type": "code",
      "source": [
        "# prompt for number of villages \n",
        "villageNumber = int(input(\"Please enter the number of villages : \"))\n",
        "\n",
        "#create list of positions \n",
        "positions = list( )\n",
        "for i in range(villageNumber):    \n",
        "   positions.append(float(input (\"Please enter the positions \" )))\n",
        " \n",
        "#sort the list \n",
        "sorted(positions)\n",
        "\n",
        "sizes = list(positions)\n",
        "\n",
        "#Create a for loop \n",
        "for i in range(3, villageNumber, 100):\n",
        "    sizes.append( (i (i - 1))/ 2 ( ( i + 1)-i )/ 2 + ( i - 1) )\n",
        "\n",
        "sizes.sort()    \n",
        "\n",
        "print(\"The smallest village size is : \" , min(sizes))"
      ],
      "metadata": {
        "colab": {
          "base_uri": "https://localhost:8080/"
        },
        "id": "ZGDwXKd8sC3R",
        "outputId": "ace6cf61-f0f3-4c33-df40-583909b610e6"
      },
      "execution_count": 25,
      "outputs": [
        {
          "output_type": "stream",
          "name": "stdout",
          "text": [
            "Please enter the number of villages : 3\n",
            "Please enter the positions 2\n",
            "Please enter the positions 4\n",
            "Please enter the positions 1\n",
            "The smallest village size is :  1.0\n"
          ]
        }
      ]
    },
    {
      "cell_type": "code",
      "source": [
        "number = int(input())\n",
        "\n",
        "positions = list()\n",
        "for i in range(number):\n",
        "    positions.append(float(input (\"Please enter the village positions : \")))\n",
        "\n",
        "sizes = list(positions)    \n",
        "\n",
        "positions.sort()\n",
        "\n",
        "for i in range (3, number, 100):\n",
        "    sizes.append( (i (i - 1))/ 2 ( ( i + 1)-i )/ 2 + ( i - 1) )\n",
        "\n",
        "sizes.sort()    \n",
        "\n",
        "print(\"The smallest village size is : \" , min(sizes) )\n"
      ],
      "metadata": {
        "colab": {
          "base_uri": "https://localhost:8080/"
        },
        "id": "PdGVgg0rqZPq",
        "outputId": "a8a47778-6b70-41f7-8e3b-9d5773492e10"
      },
      "execution_count": 24,
      "outputs": [
        {
          "output_type": "stream",
          "name": "stdout",
          "text": [
            "3\n",
            "Please enter the village positions : 4\n",
            "Please enter the village positions : 3\n",
            "Please enter the village positions : 2\n",
            "The smallest village size is :  2.0\n"
          ]
        }
      ]
    }
  ]
}