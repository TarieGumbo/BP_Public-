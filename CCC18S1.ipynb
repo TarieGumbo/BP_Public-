{
  "nbformat": 4,
  "nbformat_minor": 0,
  "metadata": {
    "colab": {
      "name": "CCC18S1.ipynb",
      "provenance": [],
      "authorship_tag": "ABX9TyM5lww7/OR38X81I2vEqVYM",
      "include_colab_link": true
    },
    "kernelspec": {
      "name": "python3",
      "display_name": "Python 3"
    },
    "language_info": {
      "name": "python"
    }
  },
  "cells": [
    {
      "cell_type": "markdown",
      "metadata": {
        "id": "view-in-github",
        "colab_type": "text"
      },
      "source": [
        "<a href=\"https://colab.research.google.com/github/TarieGumbo/BP_Public-/blob/main/CCC18S1.ipynb\" target=\"_parent\"><img src=\"https://colab.research.google.com/assets/colab-badge.svg\" alt=\"Open In Colab\"/></a>"
      ]
    },
    {
      "cell_type": "markdown",
      "source": [
        "# **Algorithm for the DMOJ Problem** \n",
        "Prompt for the number of villages and validate that \n",
        "\n",
        "Input for positions for the villages and append it to List of positions \n",
        "\n",
        "Sort the list \n",
        "\n",
        "Create a for loop \n",
        "\n",
        "Modify the range function \n",
        "for i in range (1, n-1) \n",
        "inclusive of left, right, size and append to list of sizes \n",
        "\n",
        "Print min using the function min for the list of sizes \n"
      ],
      "metadata": {
        "id": "N7K3P4jLrD9I"
      }
    },
    {
      "cell_type": "code",
      "source": [
        "# prompt for number of villages \n",
        "villageNumber = int(input(\"Please enter the number of villages : \"))\n",
        "\n"
      ],
      "metadata": {
        "colab": {
          "base_uri": "https://localhost:8080/"
        },
        "id": "ZGDwXKd8sC3R",
        "outputId": "26c41067-7b1d-4915-cbbe-5cccf6c5001a"
      },
      "execution_count": 2,
      "outputs": [
        {
          "name": "stdout",
          "output_type": "stream",
          "text": [
            "Please enter the number of villages : 67\n"
          ]
        }
      ]
    }
  ]
}