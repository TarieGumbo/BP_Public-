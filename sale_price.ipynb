{
  "nbformat": 4,
  "nbformat_minor": 0,
  "metadata": {
    "colab": {
      "name": "sale_price.ipynb",
      "provenance": [],
      "include_colab_link": true
    },
    "kernelspec": {
      "name": "python3",
      "display_name": "Python 3"
    },
    "language_info": {
      "name": "python"
    }
  },
  "cells": [
    {
      "cell_type": "markdown",
      "metadata": {
        "id": "view-in-github",
        "colab_type": "text"
      },
      "source": [
        "<a href=\"https://colab.research.google.com/github/TarieGumbo/BP_Public-/blob/main/sale_price.ipynb\" target=\"_parent\"><img src=\"https://colab.research.google.com/assets/colab-badge.svg\" alt=\"Open In Colab\"/></a>"
      ]
    },
    {
      "cell_type": "markdown",
      "metadata": {
        "id": "cgTeiXOtSPjH"
      },
      "source": [
        "# Sales Price\n",
        "\n",
        "A local department store needs to develop a program that will computer the total price (including goods and services tax) of the item on sale when given an item's original price and discount percentage.\n",
        "\n",
        "## Tasks\n",
        "* Save to Github\n",
        "* Design Algorithm\n",
        "* Write and test the program in Python"
      ]
    },
    {
      "cell_type": "code",
      "metadata": {
        "id": "pPIN2ZcrSqdw"
      },
      "source": [
        "#The code calls calculating the sales tax and discounted price \n",
        "#So the function must have a sort of formular to calculate using the original price, discount and tax \n",
        "#The discounted price would have to be calculated first ( OG -(0G x D)) \n",
        "#The tax amount claucted next (T x D )\n",
        "#The total price would be the Discounted price and tax amount added "
      ],
      "execution_count": null,
      "outputs": []
    },
    {
      "cell_type": "code",
      "source": [
        "original_price = 40\n",
        "\n",
        "discount = 0.3\n",
        "\n",
        "tax= 0.07 \n",
        "\n",
        "#Calculate the discounted price \n",
        "discounted_price = original_price - (original_price * discount )\n",
        "\n",
        "#Calculate tax amount \n",
        "tax_amount = tax * discounted_price\n",
        "\n",
        "#Calcuate the total price \n",
        "total_price = discounted_price + tax_amount\n",
        "\n",
        "#Output the answer\n",
        "print(total_price)"
      ],
      "metadata": {
        "colab": {
          "base_uri": "https://localhost:8080/"
        },
        "id": "5txZjMeQXohp",
        "outputId": "af7c9564-be19-4039-d436-2c3bc3fc0190"
      },
      "execution_count": null,
      "outputs": [
        {
          "output_type": "stream",
          "name": "stdout",
          "text": [
            "29.96\n"
          ]
        }
      ]
    },
    {
      "cell_type": "code",
      "source": [
        "\n",
        "def calculate_total_price(original_price, discount, tax):\n",
        "\n",
        "  discounted_price = original_price - (original_price * discount )\n",
        "  tax_amount = tax * discounted_price\n",
        "  total_price = discounted_price + tax_amount \n",
        "  print(\"This is the original price : \", original_price)\n",
        "  print(\"This is the store discount :\", discount)\n",
        "  print(\"The sales tax is : \", tax)\n",
        "  print(\"This is the total price for the sale : \", total_price)\n",
        "\n",
        "# Call the function \n",
        "calculate_total_price( 40, 0.3, 0.07)  \n"
      ],
      "metadata": {
        "colab": {
          "base_uri": "https://localhost:8080/"
        },
        "id": "mDVrlJ_4ZQzB",
        "outputId": "01a70f11-3c48-4e94-8707-bc37ada1cce6"
      },
      "execution_count": null,
      "outputs": [
        {
          "output_type": "stream",
          "name": "stdout",
          "text": [
            "This is the original price :  40\n",
            "This is the store discount : 0.3\n",
            "The sales tax is :  0.07\n",
            "This is the total price for the sale :  29.96\n"
          ]
        }
      ]
    }
  ]
}