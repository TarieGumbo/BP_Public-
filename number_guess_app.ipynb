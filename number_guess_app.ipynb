{
  "nbformat": 4,
  "nbformat_minor": 0,
  "metadata": {
    "colab": {
      "name": "number_guess_app.ipynb",
      "provenance": [],
      "include_colab_link": true
    },
    "kernelspec": {
      "name": "python3",
      "display_name": "Python 3"
    },
    "language_info": {
      "name": "python"
    }
  },
  "cells": [
    {
      "cell_type": "markdown",
      "metadata": {
        "id": "view-in-github",
        "colab_type": "text"
      },
      "source": [
        "<a href=\"https://colab.research.google.com/github/TarieGumbo/BP_Public-/blob/main/number_guess_app.ipynb\" target=\"_parent\"><img src=\"https://colab.research.google.com/assets/colab-badge.svg\" alt=\"Open In Colab\"/></a>"
      ]
    },
    {
      "cell_type": "markdown",
      "source": [
        "# Guess my Number"
      ],
      "metadata": {
        "id": "QPNbeg_2f-Vl"
      }
    },
    {
      "cell_type": "code",
      "execution_count": null,
      "metadata": {
        "id": "mw28Ss52f4bi"
      },
      "outputs": [],
      "source": [
        "#@title\n",
        "from google.colab import output\n",
        "from os.path import exists\n",
        "if not exists('number_guess.ipynb'):\n",
        "  !wget https://raw.githubusercontent.com/michael-borck/isys2001-worksheets/main/number_guess.ipynb\n",
        "output.clear()\n",
        "%run number_guess.ipynb"
      ]
    },
    {
      "cell_type": "code",
      "source": [
        ""
      ],
      "metadata": {
        "id": "Srto38jfhzST"
      },
      "execution_count": null,
      "outputs": []
    }
  ]
}