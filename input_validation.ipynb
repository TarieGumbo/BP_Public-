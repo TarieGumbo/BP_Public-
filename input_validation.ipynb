{
  "cells": [
    {
      "cell_type": "markdown",
      "metadata": {
        "id": "view-in-github",
        "colab_type": "text"
      },
      "source": [
        "<a href=\"https://colab.research.google.com/github/TarieGumbo/BP_Public-/blob/main/input_validation.ipynb\" target=\"_parent\"><img src=\"https://colab.research.google.com/assets/colab-badge.svg\" alt=\"Open In Colab\"/></a>"
      ]
    },
    {
      "cell_type": "markdown",
      "id": "b5835b0c",
      "metadata": {
        "id": "b5835b0c"
      },
      "source": [
        "# Input Validation\n",
        "\n",
        "Input validation code verifies that user supplied data, such as text from the input() function, is formatted appropriately.\n",
        "\n",
        "* try/except\n",
        "* isdigit()\n",
        "* pyinputplus\n",
        "\n",
        "## try/except"
      ]
    },
    {
      "cell_type": "code",
      "execution_count": 2,
      "id": "695b1f5f",
      "metadata": {
        "id": "695b1f5f",
        "outputId": "c3215e00-bdfa-498b-c225-b0c5e9289361",
        "colab": {
          "base_uri": "https://localhost:8080/"
        }
      },
      "outputs": [
        {
          "output_type": "stream",
          "name": "stdout",
          "text": [
            "How old are you? 34\n",
            "Your age is: 34\n"
          ]
        }
      ],
      "source": [
        "while True:\n",
        "  try : \n",
        "    age = int(input(\"How old are you? \"))\n",
        "    break \n",
        "  except ValueError: \n",
        "    print(\"Please enter a whole number\")  \n",
        "\n",
        "print (\"Your age is: \" + str(age))   \n"
      ]
    },
    {
      "cell_type": "code",
      "source": [
        "while True:\n",
        "  try : \n",
        "    age = int(input(\"How old are you? \"))\n",
        "    break \n",
        "  except ValueError: \n",
        "    print(\"Please enter a whole number\")  \n",
        "\n",
        "print (\"Your age is: \" + str(age)) "
      ],
      "metadata": {
        "id": "cQvBN7bFfB5k",
        "outputId": "d31c9c1b-1447-482a-a58b-89cf0d4a3281",
        "colab": {
          "base_uri": "https://localhost:8080/"
        }
      },
      "id": "cQvBN7bFfB5k",
      "execution_count": 3,
      "outputs": [
        {
          "output_type": "stream",
          "name": "stdout",
          "text": [
            "How old are you? 5.0\n",
            "Please enter a whole number\n",
            "How old are you? 67\n",
            "Your age is: 67\n"
          ]
        }
      ]
    },
    {
      "cell_type": "markdown",
      "id": "acc7252b",
      "metadata": {
        "id": "acc7252b"
      },
      "source": [
        "## isdigit()"
      ]
    },
    {
      "cell_type": "code",
      "execution_count": 4,
      "id": "5f98c241",
      "metadata": {
        "id": "5f98c241",
        "outputId": "ca841ea2-5b09-4271-af59-5de1105172d6",
        "colab": {
          "base_uri": "https://localhost:8080/"
        }
      },
      "outputs": [
        {
          "output_type": "stream",
          "name": "stdout",
          "text": [
            "How old are you? ten\n",
            " you must enter a valid number\n",
            "How old are you? 10\n",
            "Your age is: 10\n"
          ]
        }
      ],
      "source": [
        "while True:\n",
        "  age = input(\"How old are you? \")\n",
        "  if age.isdigit():\n",
        "    break \n",
        "  else: \n",
        "    print(\" you must enter a valid number\")  \n",
        "\n",
        "print (\"Your age is: \" + str(age)) "
      ]
    },
    {
      "cell_type": "code",
      "source": [
        "while True:\n",
        "  age = input(\"How old are you? \")\n",
        "  if age.isdigit():\n",
        "    break \n",
        "  else: \n",
        "    print(\" you must enter a valid number\")  \n",
        "\n",
        "print (\"Your age is: \" + str(age)) "
      ],
      "metadata": {
        "id": "VFRAZ1XUjjG-",
        "outputId": "1a3557d9-c743-4b96-fd00-4fd9d2acc4b5",
        "colab": {
          "base_uri": "https://localhost:8080/"
        }
      },
      "id": "VFRAZ1XUjjG-",
      "execution_count": 5,
      "outputs": [
        {
          "output_type": "stream",
          "name": "stdout",
          "text": [
            "How old are you? 98\n",
            "Your age is: 98\n"
          ]
        }
      ]
    },
    {
      "cell_type": "markdown",
      "id": "18c00dc3",
      "metadata": {
        "id": "18c00dc3"
      },
      "source": [
        "## Module: pyinputs"
      ]
    },
    {
      "cell_type": "code",
      "execution_count": 6,
      "id": "dfe1740b",
      "metadata": {
        "id": "dfe1740b",
        "outputId": "0dbd1cff-1418-42dd-f77c-c078d099134b",
        "colab": {
          "base_uri": "https://localhost:8080/"
        }
      },
      "outputs": [
        {
          "output_type": "stream",
          "name": "stdout",
          "text": [
            "Collecting PyInputPlus\n",
            "  Downloading PyInputPlus-0.2.12.tar.gz (20 kB)\n",
            "  Installing build dependencies ... \u001b[?25l\u001b[?25hdone\n",
            "  Getting requirements to build wheel ... \u001b[?25l\u001b[?25hdone\n",
            "    Preparing wheel metadata ... \u001b[?25l\u001b[?25hdone\n",
            "Collecting pysimplevalidate>=0.2.7\n",
            "  Downloading PySimpleValidate-0.2.12.tar.gz (22 kB)\n",
            "  Installing build dependencies ... \u001b[?25l\u001b[?25hdone\n",
            "  Getting requirements to build wheel ... \u001b[?25l\u001b[?25hdone\n",
            "    Preparing wheel metadata ... \u001b[?25l\u001b[?25hdone\n",
            "Collecting stdiomask>=0.0.3\n",
            "  Downloading stdiomask-0.0.6.tar.gz (3.6 kB)\n",
            "  Installing build dependencies ... \u001b[?25l\u001b[?25hdone\n",
            "  Getting requirements to build wheel ... \u001b[?25l\u001b[?25hdone\n",
            "    Preparing wheel metadata ... \u001b[?25l\u001b[?25hdone\n",
            "Building wheels for collected packages: PyInputPlus, pysimplevalidate, stdiomask\n",
            "  Building wheel for PyInputPlus (PEP 517) ... \u001b[?25l\u001b[?25hdone\n",
            "  Created wheel for PyInputPlus: filename=PyInputPlus-0.2.12-py3-none-any.whl size=11315 sha256=5d08b338efbba3b192451a147213bab3521c06c47d9a1cd13a3f5c0ac310f151\n",
            "  Stored in directory: /root/.cache/pip/wheels/e7/33/73/719f8f1bd984d39face880fd22f6c5ef1b85f726e84c687094\n",
            "  Building wheel for pysimplevalidate (PEP 517) ... \u001b[?25l\u001b[?25hdone\n",
            "  Created wheel for pysimplevalidate: filename=PySimpleValidate-0.2.12-py3-none-any.whl size=16193 sha256=63d0fc5a3b7bcadcc3f9ed3f9add21cce1317aa2aa3ad22824da465191a96fc9\n",
            "  Stored in directory: /root/.cache/pip/wheels/5a/8b/6c/2925d22b93860bdc9b8ce02c3d2cf79336606f7469cef66065\n",
            "  Building wheel for stdiomask (PEP 517) ... \u001b[?25l\u001b[?25hdone\n",
            "  Created wheel for stdiomask: filename=stdiomask-0.0.6-py3-none-any.whl size=3321 sha256=683ba3dd4e6b63bd9eb6d5dd9a05386192282d0b2a27a75c52141305d2bd3549\n",
            "  Stored in directory: /root/.cache/pip/wheels/cf/13/89/64d0d3b167759523f4c1e68f883bbc30e7bfa27050edeb418e\n",
            "Successfully built PyInputPlus pysimplevalidate stdiomask\n",
            "Installing collected packages: stdiomask, pysimplevalidate, PyInputPlus\n",
            "Successfully installed PyInputPlus-0.2.12 pysimplevalidate-0.2.12 stdiomask-0.0.6\n"
          ]
        }
      ],
      "source": [
        "#install the module\n",
        "!pip install PyInputPlus\n"
      ]
    },
    {
      "cell_type": "code",
      "source": [
        "import pyinputplus as pyip \n",
        "\n",
        "age = pyip.inputNum( prompt = \"How old are you \", greaterThan = 10)\n",
        "print()\n",
        "print(\"Your age is : \" + str(age))\n"
      ],
      "metadata": {
        "id": "OvqPitIkh379",
        "outputId": "74a4cd29-52c7-4fdb-a252-1d0c76cb1498",
        "colab": {
          "base_uri": "https://localhost:8080/"
        }
      },
      "id": "OvqPitIkh379",
      "execution_count": 8,
      "outputs": [
        {
          "output_type": "stream",
          "name": "stdout",
          "text": [
            "How old are you 9\n",
            "Number must be greater than 10.\n",
            "How old are you 56\n",
            "\n",
            "Your age is : 56\n"
          ]
        }
      ]
    },
    {
      "cell_type": "code",
      "source": [
        ""
      ],
      "metadata": {
        "id": "BSY3chdWieP1"
      },
      "id": "BSY3chdWieP1",
      "execution_count": null,
      "outputs": []
    }
  ],
  "metadata": {
    "kernelspec": {
      "display_name": "Python 3 (ipykernel)",
      "language": "python",
      "name": "python3"
    },
    "language_info": {
      "codemirror_mode": {
        "name": "ipython",
        "version": 3
      },
      "file_extension": ".py",
      "mimetype": "text/x-python",
      "name": "python",
      "nbconvert_exporter": "python",
      "pygments_lexer": "ipython3",
      "version": "3.9.6"
    },
    "colab": {
      "name": "input_validation.ipynb",
      "provenance": [],
      "include_colab_link": true
    }
  },
  "nbformat": 4,
  "nbformat_minor": 5
}