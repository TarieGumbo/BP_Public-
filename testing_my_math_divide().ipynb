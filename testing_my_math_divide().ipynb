{
  "nbformat": 4,
  "nbformat_minor": 0,
  "metadata": {
    "colab": {
      "name": "testing_my_math.divide().ipynb",
      "provenance": [],
      "include_colab_link": true
    },
    "kernelspec": {
      "name": "python3",
      "display_name": "Python 3"
    },
    "language_info": {
      "name": "python"
    }
  },
  "cells": [
    {
      "cell_type": "markdown",
      "metadata": {
        "id": "view-in-github",
        "colab_type": "text"
      },
      "source": [
        "<a href=\"https://colab.research.google.com/github/TarieGumbo/BP_Public-/blob/main/testing_my_math_divide().ipynb\" target=\"_parent\"><img src=\"https://colab.research.google.com/assets/colab-badge.svg\" alt=\"Open In Colab\"/></a>"
      ]
    },
    {
      "cell_type": "markdown",
      "source": [
        "## Testing  my_math.divide()\n",
        "\n",
        "What is your preferred testing strategy? Do you like using the assert statement or prefer doctest?  \n",
        "\n",
        "Using your preferred testing strategy, develop a test table and test the following funciton.  Where required update the function so all test behave as expected.\n",
        "\n",
        "\n",
        "## Function to test"
      ],
      "metadata": {
        "id": "LIfoDVzKX7uK"
      }
    },
    {
      "cell_type": "code",
      "source": [
        "def divide(x, y):\n",
        "    '''Divide first by second number'''\n",
        "    if ((type(x) == int or type (x) ==float) and (type(x)==int or type (x) == float)):\n",
        "      return x / y\n",
        "    return 'Can not calculate'  "
      ],
      "metadata": {
        "id": "YH9gDoOYvKwg"
      },
      "execution_count": 9,
      "outputs": []
    },
    {
      "cell_type": "markdown",
      "source": [
        "## Test Table\n",
        "\n",
        "List you test cases here."
      ],
      "metadata": {
        "id": "JYSZ-53nLF6n"
      }
    },
    {
      "cell_type": "markdown",
      "source": [
        "\n",
        " | Test # | Type    | Data     | Expected | Actual | Pass/Fail |\n",
        "|--------|---------|----------|----------|--------|-----------|\n",
        "|  1     | Valid   |1,1       | 1        |        |           |\n",
        "|  2     | Valid   |2,2       | 1        |        |           |\n",
        "|  3     | Valid   |-4,-4     | 1        |        |           |\n",
        "|  4     | Valid   |6.6,6.6   | 1        |        |           |\n",
        "|  5     | Valid   |-9.9,-9.9 | 1        |        |           |\n",
        "|  6     | Invalid |'10',10   | 'Can not calculate' |         |           |\n",
        "|  7     | Invalid |'One','0' | 'Can not calculate' |         |           |\n",
        "|  8     | Invalid |[100],[50]| 'Can not calculate' |         |           |\n",
        "|  9     | Invalid |{200},{100}| 'Can not calculate'|         |           |\n",
        "\n",
        "\n",
        "---\n",
        "\n"
      ],
      "metadata": {
        "id": "Vef_9NmLLn8q"
      }
    },
    {
      "cell_type": "code",
      "source": [
        "assert divide(1,1) == 1 "
      ],
      "metadata": {
        "id": "DMTITEmbLE_Z"
      },
      "execution_count": 4,
      "outputs": []
    },
    {
      "cell_type": "code",
      "source": [
        "assert divide(2,2) == 1"
      ],
      "metadata": {
        "id": "68LyI16vNcH0"
      },
      "execution_count": 5,
      "outputs": []
    },
    {
      "cell_type": "code",
      "source": [
        "assert divide (-4,-4) == 1"
      ],
      "metadata": {
        "id": "g-DXzPCVRWfU"
      },
      "execution_count": 6,
      "outputs": []
    },
    {
      "cell_type": "code",
      "source": [
        "assert divide (6.6, 6.6) == 1 "
      ],
      "metadata": {
        "id": "r91tF-L_R1op"
      },
      "execution_count": 7,
      "outputs": []
    },
    {
      "cell_type": "code",
      "source": [
        "assert divide (-9.9, -9.9) == 1 "
      ],
      "metadata": {
        "id": "uwvBpZFsR6hZ"
      },
      "execution_count": 8,
      "outputs": []
    },
    {
      "cell_type": "code",
      "source": [
        "assert divide('10', 10) == 'Can not calculate'"
      ],
      "metadata": {
        "id": "F_Mmg41YSOkL"
      },
      "execution_count": 10,
      "outputs": []
    },
    {
      "cell_type": "code",
      "source": [
        "assert divide ('One', '0' ) == 'Can not calculate'"
      ],
      "metadata": {
        "id": "h5EimlZTTQH0"
      },
      "execution_count": 12,
      "outputs": []
    },
    {
      "cell_type": "code",
      "source": [
        ""
      ],
      "metadata": {
        "id": "pzv_gmA0Tk97"
      },
      "execution_count": null,
      "outputs": []
    }
  ]
}